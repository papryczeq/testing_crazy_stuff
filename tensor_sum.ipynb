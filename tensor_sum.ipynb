{
 "cells": [
  {
   "cell_type": "code",
   "execution_count": 5,
   "metadata": {},
   "outputs": [],
   "source": [
    "import tensorflow as tf\n",
    "import numpy as np\n",
    "from tensorflow import keras"
   ]
  },
  {
   "cell_type": "code",
   "execution_count": 4,
   "metadata": {},
   "outputs": [],
   "source": [
    "X_train = np.array([\n",
    "    [1.0, 1.0],\n",
    "  [1.0, 2.0],\n",
    "  [2.0, 3.0],\n",
    "  [3.0, 4.0],\n",
    "  [4.0, 5.0],\n",
    "  [6.0, 2.0],\n",
    "  [7.0, 1.0],\n",
    "  [8.0, 2.0],\n",
    "  [9.0, 0.0]\n",
    "])\n",
    "\n",
    "y_train = np.array(\n",
    "    [2.0,\n",
    "    3.0,\n",
    "    5.0,\n",
    "    7.0,\n",
    "    9.0,\n",
    "    8.0,\n",
    "    8.0,\n",
    "    10.0,\n",
    "    9.0]\n",
    ")\n",
    "\n",
    "X_test = np.array([\n",
    "    [5.0, 5.0],\n",
    "    [3.0, 1.0]\n",
    "])\n",
    "\n",
    "y_test = np.array([10.0, 4.0])"
   ]
  },
  {
   "cell_type": "code",
   "execution_count": 11,
   "metadata": {},
   "outputs": [],
   "source": [
    "model = keras.Sequential([\n",
    "    keras.layers.Flatten(input_shape=(2,)),\n",
    "\tkeras.layers.Dense(20, activation=tf.nn.relu),\n",
    "    keras.layers.Dense(20, activation=tf.nn.relu),\n",
    "    keras.layers.Dense(1)\n",
    "])"
   ]
  },
  {
   "cell_type": "code",
   "execution_count": 12,
   "metadata": {},
   "outputs": [],
   "source": [
    "model.compile(optimizer='adam', \n",
    "              loss='mse',\n",
    "              metrics=['accuracy'])"
   ]
  },
  {
   "cell_type": "code",
   "execution_count": 13,
   "metadata": {},
   "outputs": [
    {
     "name": "stdout",
     "output_type": "stream",
     "text": [
      "Train on 9 samples\n",
      "Epoch 1/10\n",
      "9/9 [==============================] - 0s 28ms/sample - loss: 60.8714 - accuracy: 0.0000e+00\n",
      "Epoch 2/10\n",
      "9/9 [==============================] - 0s 1ms/sample - loss: 56.1792 - accuracy: 0.0000e+00\n",
      "Epoch 3/10\n",
      "9/9 [==============================] - 0s 914us/sample - loss: 51.4382 - accuracy: 0.0000e+00\n",
      "Epoch 4/10\n",
      "9/9 [==============================] - 0s 1ms/sample - loss: 47.9816 - accuracy: 0.0000e+00\n",
      "Epoch 5/10\n",
      "9/9 [==============================] - 0s 1ms/sample - loss: 44.2236 - accuracy: 0.0000e+00\n",
      "Epoch 6/10\n",
      "9/9 [==============================] - 0s 1ms/sample - loss: 40.9023 - accuracy: 0.0000e+00\n",
      "Epoch 7/10\n",
      "9/9 [==============================] - 0s 1ms/sample - loss: 38.3334 - accuracy: 0.0000e+00\n",
      "Epoch 8/10\n",
      "9/9 [==============================] - 0s 932us/sample - loss: 35.1447 - accuracy: 0.0000e+00\n",
      "Epoch 9/10\n",
      "9/9 [==============================] - 0s 1ms/sample - loss: 32.3164 - accuracy: 0.0000e+00\n",
      "Epoch 10/10\n",
      "9/9 [==============================] - 0s 892us/sample - loss: 29.6585 - accuracy: 0.0000e+00\n"
     ]
    },
    {
     "data": {
      "text/plain": [
       "<tensorflow.python.keras.callbacks.History at 0x7f81c47a4668>"
      ]
     },
     "execution_count": 13,
     "metadata": {},
     "output_type": "execute_result"
    }
   ],
   "source": [
    "model.fit(X_train, y_train, batch_size=1, epochs=10)"
   ]
  },
  {
   "cell_type": "code",
   "execution_count": 14,
   "metadata": {},
   "outputs": [
    {
     "name": "stdout",
     "output_type": "stream",
     "text": [
      "2/2 - 0s - loss: 29.9146 - accuracy: 0.0000e+00\n"
     ]
    },
    {
     "data": {
      "text/plain": [
       "[29.914562225341797, 0.0]"
      ]
     },
     "execution_count": 14,
     "metadata": {},
     "output_type": "execute_result"
    }
   ],
   "source": [
    "model.evaluate(X_test, y_test, verbose=2)"
   ]
  },
  {
   "cell_type": "code",
   "execution_count": null,
   "metadata": {},
   "outputs": [],
   "source": []
  }
 ],
 "metadata": {
  "kernelspec": {
   "display_name": "Python 3",
   "language": "python",
   "name": "python3"
  },
  "language_info": {
   "codemirror_mode": {
    "name": "ipython",
    "version": 3
   },
   "file_extension": ".py",
   "mimetype": "text/x-python",
   "name": "python",
   "nbconvert_exporter": "python",
   "pygments_lexer": "ipython3",
   "version": "3.6.9"
  }
 },
 "nbformat": 4,
 "nbformat_minor": 4
}
